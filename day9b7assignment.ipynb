{
  "nbformat": 4,
  "nbformat_minor": 0,
  "metadata": {
    "colab": {
      "name": "day9b7assignment.ipynb",
      "provenance": [],
      "collapsed_sections": []
    },
    "kernelspec": {
      "name": "python3",
      "display_name": "Python 3"
    }
  },
  "cells": [
    {
      "cell_type": "code",
      "metadata": {
        "id": "EGRn0db87azP",
        "colab_type": "code",
        "colab": {
          "base_uri": "https://localhost:8080/",
          "height": 411
        },
        "outputId": "37682e1c-0d16-4dae-e219-11a3da80756a"
      },
      "source": [
        "#assignment 1\n",
        "pip install pylint"
      ],
      "execution_count": null,
      "outputs": [
        {
          "output_type": "stream",
          "text": [
            "Collecting pylint\n",
            "\u001b[?25l  Downloading https://files.pythonhosted.org/packages/fb/13/519c1264a134beab2be4bac8dd3e64948980a5ca7833b31cf0255b21f20a/pylint-2.6.0-py3-none-any.whl (325kB)\n",
            "\r\u001b[K     |█                               | 10kB 16.8MB/s eta 0:00:01\r\u001b[K     |██                              | 20kB 1.7MB/s eta 0:00:01\r\u001b[K     |███                             | 30kB 2.2MB/s eta 0:00:01\r\u001b[K     |████                            | 40kB 2.4MB/s eta 0:00:01\r\u001b[K     |█████                           | 51kB 1.9MB/s eta 0:00:01\r\u001b[K     |██████                          | 61kB 2.2MB/s eta 0:00:01\r\u001b[K     |███████                         | 71kB 2.4MB/s eta 0:00:01\r\u001b[K     |████████                        | 81kB 2.7MB/s eta 0:00:01\r\u001b[K     |█████████                       | 92kB 2.8MB/s eta 0:00:01\r\u001b[K     |██████████                      | 102kB 2.7MB/s eta 0:00:01\r\u001b[K     |███████████                     | 112kB 2.7MB/s eta 0:00:01\r\u001b[K     |████████████                    | 122kB 2.7MB/s eta 0:00:01\r\u001b[K     |█████████████                   | 133kB 2.7MB/s eta 0:00:01\r\u001b[K     |██████████████                  | 143kB 2.7MB/s eta 0:00:01\r\u001b[K     |███████████████                 | 153kB 2.7MB/s eta 0:00:01\r\u001b[K     |████████████████                | 163kB 2.7MB/s eta 0:00:01\r\u001b[K     |█████████████████               | 174kB 2.7MB/s eta 0:00:01\r\u001b[K     |██████████████████              | 184kB 2.7MB/s eta 0:00:01\r\u001b[K     |███████████████████▏            | 194kB 2.7MB/s eta 0:00:01\r\u001b[K     |████████████████████▏           | 204kB 2.7MB/s eta 0:00:01\r\u001b[K     |█████████████████████▏          | 215kB 2.7MB/s eta 0:00:01\r\u001b[K     |██████████████████████▏         | 225kB 2.7MB/s eta 0:00:01\r\u001b[K     |███████████████████████▏        | 235kB 2.7MB/s eta 0:00:01\r\u001b[K     |████████████████████████▏       | 245kB 2.7MB/s eta 0:00:01\r\u001b[K     |█████████████████████████▏      | 256kB 2.7MB/s eta 0:00:01\r\u001b[K     |██████████████████████████▏     | 266kB 2.7MB/s eta 0:00:01\r\u001b[K     |███████████████████████████▏    | 276kB 2.7MB/s eta 0:00:01\r\u001b[K     |████████████████████████████▏   | 286kB 2.7MB/s eta 0:00:01\r\u001b[K     |█████████████████████████████▏  | 296kB 2.7MB/s eta 0:00:01\r\u001b[K     |██████████████████████████████▏ | 307kB 2.7MB/s eta 0:00:01\r\u001b[K     |███████████████████████████████▏| 317kB 2.7MB/s eta 0:00:01\r\u001b[K     |████████████████████████████████| 327kB 2.7MB/s \n",
            "\u001b[?25hCollecting mccabe<0.7,>=0.6\n",
            "  Downloading https://files.pythonhosted.org/packages/87/89/479dc97e18549e21354893e4ee4ef36db1d237534982482c3681ee6e7b57/mccabe-0.6.1-py2.py3-none-any.whl\n",
            "Collecting astroid<=2.5,>=2.4.0\n",
            "\u001b[?25l  Downloading https://files.pythonhosted.org/packages/24/a8/5133f51967fb21e46ee50831c3f5dda49e976b7f915408d670b1603d41d6/astroid-2.4.2-py3-none-any.whl (213kB)\n",
            "\u001b[K     |████████████████████████████████| 215kB 8.1MB/s \n",
            "\u001b[?25hRequirement already satisfied: toml>=0.7.1 in /usr/local/lib/python3.6/dist-packages (from pylint) (0.10.1)\n",
            "Collecting isort<6,>=4.2.5\n",
            "\u001b[?25l  Downloading https://files.pythonhosted.org/packages/d1/25/7ed95ccb07d3ce52598f5a57d002da6a18074ea8749991b10936cc20e539/isort-5.5.2-py3-none-any.whl (95kB)\n",
            "\u001b[K     |████████████████████████████████| 102kB 6.4MB/s \n",
            "\u001b[?25hRequirement already satisfied: wrapt~=1.11 in /usr/local/lib/python3.6/dist-packages (from astroid<=2.5,>=2.4.0->pylint) (1.12.1)\n",
            "Collecting typed-ast<1.5,>=1.4.0; implementation_name == \"cpython\" and python_version < \"3.8\"\n",
            "\u001b[?25l  Downloading https://files.pythonhosted.org/packages/90/ed/5459080d95eb87a02fe860d447197be63b6e2b5e9ff73c2b0a85622994f4/typed_ast-1.4.1-cp36-cp36m-manylinux1_x86_64.whl (737kB)\n",
            "\u001b[K     |████████████████████████████████| 747kB 12.1MB/s \n",
            "\u001b[?25hCollecting lazy-object-proxy==1.4.*\n",
            "\u001b[?25l  Downloading https://files.pythonhosted.org/packages/0b/dd/b1e3407e9e6913cf178e506cd0dee818e58694d9a5cd1984e3f6a8b9a10f/lazy_object_proxy-1.4.3-cp36-cp36m-manylinux1_x86_64.whl (55kB)\n",
            "\u001b[K     |████████████████████████████████| 61kB 6.0MB/s \n",
            "\u001b[?25hRequirement already satisfied: six~=1.12 in /usr/local/lib/python3.6/dist-packages (from astroid<=2.5,>=2.4.0->pylint) (1.15.0)\n",
            "Installing collected packages: mccabe, typed-ast, lazy-object-proxy, astroid, isort, pylint\n",
            "Successfully installed astroid-2.4.2 isort-5.5.2 lazy-object-proxy-1.4.3 mccabe-0.6.1 pylint-2.6.0 typed-ast-1.4.1\n"
          ],
          "name": "stdout"
        }
      ]
    },
    {
      "cell_type": "code",
      "metadata": {
        "id": "M_twG_Y8AO7C",
        "colab_type": "code",
        "colab": {
          "base_uri": "https://localhost:8080/",
          "height": 34
        },
        "outputId": "6d5b7dbc-766f-4215-f7ff-13c911198324"
      },
      "source": [
        "%%writefile some_code.py\n",
        "''' it is a prime function'''\n",
        "def testprime(number):\n",
        "    ''' function starting'''\n",
        "    for item in range(2,number):\n",
        "        if number%item==0:\n",
        "            return False\n",
        "        return True\n",
        "\n",
        "testprime(5)\n",
        "print(\"\\n\",end=\"\")\n",
        "\n"
      ],
      "execution_count": 142,
      "outputs": [
        {
          "output_type": "stream",
          "text": [
            "Overwriting some_code.py\n"
          ],
          "name": "stdout"
        }
      ]
    },
    {
      "cell_type": "code",
      "metadata": {
        "id": "5dQDgnFOLmCR",
        "colab_type": "code",
        "colab": {
          "base_uri": "https://localhost:8080/",
          "height": 85
        },
        "outputId": "bbe058b4-132f-40a1-dcbb-02d0710841a0"
      },
      "source": [
        "!pylint \"some_code.py\""
      ],
      "execution_count": 144,
      "outputs": [
        {
          "output_type": "stream",
          "text": [
            "\n",
            "--------------------------------------------------------------------\n",
            "Your code has been rated at 10.00/10 (previous run: 10.00/10, +0.00)\n",
            "\n"
          ],
          "name": "stdout"
        }
      ]
    },
    {
      "cell_type": "code",
      "metadata": {
        "id": "8XYtyW-eTQJn",
        "colab_type": "code",
        "colab": {
          "base_uri": "https://localhost:8080/",
          "height": 34
        },
        "outputId": "98291330-ebe9-4b05-cd3a-c22e6b5aac14"
      },
      "source": [
        "%%writefile prime.py\n",
        "''' it is a prime function'''\n",
        "def testprime(number):\n",
        "    ''' function starting'''\n",
        "    for item in range(2,number):\n",
        "        if number%item==0:\n",
        "            return False\n",
        "        else:\n",
        "            return True"
      ],
      "execution_count": null,
      "outputs": [
        {
          "output_type": "stream",
          "text": [
            "Overwriting prime.py\n"
          ],
          "name": "stdout"
        }
      ]
    },
    {
      "cell_type": "code",
      "metadata": {
        "id": "JWHUayyIUKDB",
        "colab_type": "code",
        "colab": {
          "base_uri": "https://localhost:8080/",
          "height": 34
        },
        "outputId": "584ed908-ffda-4210-c4cf-db8b4875a325"
      },
      "source": [
        "%%writefile abc.py\n",
        "import unittest\n",
        "import prime\n",
        "class primeTesting(unittest.TestCase):\n",
        "  def testprime(self):  # TestCase 1\n",
        "        temp_prime = 5\n",
        "        result = prime.testprime(temp_prime)\n",
        "        self.assertEqual(result,True)\n",
        "  def testprime1(self):  # TestCase 2\n",
        "        temp_prime = 6\n",
        "        result = prime.testprime(temp_prime)\n",
        "        self.assertEqual(result,False)\n",
        "  def testprime2(self):  # TestCase 3\n",
        "        temp_prime = 3\n",
        "        result = prime.testprime(temp_prime)\n",
        "        self.assertEqual(result,True)\n",
        "if __name__ == \"__main__\":\n",
        "    unittest.main()\n"
      ],
      "execution_count": 128,
      "outputs": [
        {
          "output_type": "stream",
          "text": [
            "Overwriting abc.py\n"
          ],
          "name": "stdout"
        }
      ]
    },
    {
      "cell_type": "code",
      "metadata": {
        "id": "sVenIox-YJOb",
        "colab_type": "code",
        "colab": {
          "base_uri": "https://localhost:8080/",
          "height": 102
        },
        "outputId": "a5215f97-4348-422b-9fb8-90a359b0bb8c"
      },
      "source": [
        "! python abc.py"
      ],
      "execution_count": 129,
      "outputs": [
        {
          "output_type": "stream",
          "text": [
            "...\n",
            "----------------------------------------------------------------------\n",
            "Ran 3 tests in 0.000s\n",
            "\n",
            "OK\n"
          ],
          "name": "stdout"
        }
      ]
    },
    {
      "cell_type": "code",
      "metadata": {
        "id": "4bgsl3-efc7V",
        "colab_type": "code",
        "colab": {}
      },
      "source": [
        "#assignment 2\n",
        "def armstrong(range1 = 1, range2 = 1000):\n",
        "  for num in range(range1,range2):\n",
        "    temp=num\n",
        "    sum=0\n",
        "    while temp>0:\n",
        "      digit=temp%10\n",
        "      sum=sum+digit**3\n",
        "      temp=temp//10\n",
        "\n",
        "    if sum==num:\n",
        "      yield num\n",
        "    "
      ],
      "execution_count": 173,
      "outputs": []
    },
    {
      "cell_type": "code",
      "metadata": {
        "id": "Nx9d5MsQry9I",
        "colab_type": "code",
        "colab": {
          "base_uri": "https://localhost:8080/",
          "height": 34
        },
        "outputId": "e9c26ae9-2951-4847-8cba-30e1bdbf6679"
      },
      "source": [
        "armnum= armstrong(1,1000)\n",
        "print(list(armnum))"
      ],
      "execution_count": 175,
      "outputs": [
        {
          "output_type": "stream",
          "text": [
            "[1, 153, 370, 371, 407]\n"
          ],
          "name": "stdout"
        }
      ]
    }
  ]
}