{
  "nbformat": 4,
  "nbformat_minor": 0,
  "metadata": {
    "colab": {
      "name": "day6b7assignment.ipynb",
      "provenance": [],
      "collapsed_sections": []
    },
    "kernelspec": {
      "name": "python3",
      "display_name": "Python 3"
    }
  },
  "cells": [
    {
      "cell_type": "code",
      "metadata": {
        "id": "GPslb7w_qWRz",
        "colab_type": "code",
        "colab": {
          "base_uri": "https://localhost:8080/",
          "height": 102
        },
        "outputId": "c3cb66e6-160e-497d-b5e9-4fe01318a774"
      },
      "source": [
        "#assignment 1 bank account\n",
        "class Account:\n",
        "    \n",
        "    def __init__(self, owner, balance):\n",
        "        self.owner = owner\n",
        "        self.balance = balance\n",
        "    \n",
        "    def __str__(self):\n",
        "        return 'Account owner: {owner}\\nAccount balance: ${balance}'.format(owner=self.owner, balance=self.balance)\n",
        "        \n",
        "    def deposit(self, dp_money):\n",
        "        self.balance += dp_money\n",
        "        print('Deposit Accepted, your balance is {balance}'.format(balance=self.balance))\n",
        "    \n",
        "    def withdraw(self, wd_money):\n",
        "        if wd_money > self.balance:\n",
        "            print('Funds Unavailable!')\n",
        "        else:\n",
        "            self.balance -= wd_money\n",
        "            print('Withdrawal Accepted, your balance is {balance}'.format(balance=self.balance))\n",
        "            \n",
        "acct1 = Account('Jose',100)\n",
        "print(acct1)\n",
        "\n",
        "acct1.deposit(50)\n",
        "acct1.withdraw(75)\n",
        "acct1.withdraw(500)"
      ],
      "execution_count": null,
      "outputs": [
        {
          "output_type": "stream",
          "text": [
            "Account owner: Jose\n",
            "Account balance: $100\n",
            "Deposit Accepted, your balance is 150\n",
            "Withdrawal Accepted, your balance is 75\n",
            "Funds Unavailable!\n"
          ],
          "name": "stdout"
        }
      ]
    },
    {
      "cell_type": "code",
      "metadata": {
        "id": "IqClc9Qpvedo",
        "colab_type": "code",
        "colab": {
          "base_uri": "https://localhost:8080/",
          "height": 85
        },
        "outputId": "b105ad6c-00eb-4d47-e8c0-e2bbe36ca1be"
      },
      "source": [
        "#assignment 2 cone class\n",
        "import math\n",
        "\n",
        "radius = float(input('Please Enter the Radius of a Cone: '))\n",
        "height = float(input('Please Enter the Height of a Cone: '))\n",
        "#surface area\n",
        "SA = math.pi * radius * (radius + l)\n",
        "\n",
        "# volume\n",
        "Volume = (1.0/3) * math.pi * radius * radius * height\n",
        "\n",
        "\n",
        "\n",
        "print(\" The Surface Area of a Cone = %.2f \" %SA)\n",
        "print(\" The Volume of a Cone = %.2f\" %Volume);\n"
      ],
      "execution_count": null,
      "outputs": [
        {
          "output_type": "stream",
          "text": [
            "Please Enter the Radius of a Cone: 4\n",
            "Please Enter the Height of a Cone: 7\n",
            " The Surface Area of a Cone = 151.58 \n",
            " The Volume of a Cone = 117.29\n"
          ],
          "name": "stdout"
        }
      ]
    }
  ]
}