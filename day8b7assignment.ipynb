{
  "nbformat": 4,
  "nbformat_minor": 0,
  "metadata": {
    "colab": {
      "name": "day8b7assignment.ipynb",
      "provenance": [],
      "collapsed_sections": []
    },
    "kernelspec": {
      "name": "python3",
      "display_name": "Python 3"
    }
  },
  "cells": [
    {
      "cell_type": "code",
      "metadata": {
        "id": "r_5ueAeM1EDn",
        "colab_type": "code",
        "colab": {
          "base_uri": "https://localhost:8080/",
          "height": 34
        },
        "outputId": "69a912e0-ec65-41da-cab9-d08d61993c0e"
      },
      "source": [
        "#assignment1\n",
        "def decorator(f):\n",
        "    memo = {}\n",
        "    def helper(x):\n",
        "        if x not in memo:            \n",
        "            memo[x] = f(x)\n",
        "        return memo[x]\n",
        "    return helper\n",
        "    \n",
        "\n",
        "def fib(n):\n",
        "    if n == 0:\n",
        "        return 0\n",
        "    elif n == 1:\n",
        "        return 1\n",
        "    else:\n",
        "        return fib(n-1) + fib(n-2)\n",
        "\n",
        "fib = decorator(fib)\n",
        "print(fib(7))"
      ],
      "execution_count": null,
      "outputs": [
        {
          "output_type": "stream",
          "text": [
            "13\n"
          ],
          "name": "stdout"
        }
      ]
    },
    {
      "cell_type": "code",
      "metadata": {
        "id": "IT8AicWD3xZA",
        "colab_type": "code",
        "colab": {
          "base_uri": "https://localhost:8080/",
          "height": 34
        },
        "outputId": "47c51bcc-dad1-4d97-a032-b613aa5acc5e"
      },
      "source": [
        "#assignment2\n",
        "try:\n",
        "   fh = open(\"testfile\", \"r\")\n",
        "   fh.write(\"This is my test file for exception handling!!\")\n",
        "except IOError:\n",
        "   print (\"Error: can\\'t write file only read is allowed\")\n",
        "else:\n",
        "   print (\"Written content in the file successfully\")"
      ],
      "execution_count": null,
      "outputs": [
        {
          "output_type": "stream",
          "text": [
            "Error: can't write file only read is allowed\n"
          ],
          "name": "stdout"
        }
      ]
    }
  ]
}